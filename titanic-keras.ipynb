{
 "cells": [
  {
   "cell_type": "code",
   "execution_count": 96,
   "metadata": {},
   "outputs": [],
   "source": [
    "import numpy as np\n",
    "import pandas as pd\n",
    "from keras.models import Sequential\n",
    "from keras.layers import Dense, Activation, Dropout\n",
    "from keras.optimizers import SGD, Adam\n",
    "from sklearn.preprocessing import LabelEncoder\n",
    "from sklearn.preprocessing import StandardScaler"
   ]
  },
  {
   "cell_type": "code",
   "execution_count": 97,
   "metadata": {
    "scrolled": false
   },
   "outputs": [],
   "source": [
    "train_data = pd.read_csv(\"titanic.csv\")\n",
    "\n",
    "def drop_not_concerned_columns(data, columns):\n",
    "    return data.drop(columns, axis=1)\n",
    "\n",
    "not_concerned_columns = [\"PassengerId\", \"Name\", \"Ticket\", \"Cabin\", \"Fare\"]\n",
    "train_data = drop_not_concerned_columns(train_data, not_concerned_columns)\n",
    "\n",
    "train_data = train_data.dropna()\n",
    "\n",
    "# normalize\n",
    "def dummy_data(data, columns):\n",
    "    for column in columns:\n",
    "        data = pd.concat([data, pd.get_dummies(data[column], prefix=column)], axis=1)\n",
    "        data = data.drop(column, axis=1)\n",
    "    return data\n",
    "\n",
    "\n",
    "dummy_columns = [\"Pclass\", \"Embarked\"]\n",
    "train_data = dummy_data(train_data, dummy_columns)\n",
    "\n",
    "\n",
    "def sex_to_int(data):\n",
    "    le = LabelEncoder()\n",
    "    le.fit([\"male\", \"female\"])\n",
    "    data[\"Sex\"] = le.transform(data[\"Sex\"])\n",
    "    return data\n",
    "\n",
    "def normalize(data, columns):\n",
    "    for c in columns:\n",
    "        ss = StandardScaler()\n",
    "        data[c] = ss.fit_transform(data[c].values.reshape(-1, 1))\n",
    "    return data\n",
    "\n",
    "train_data = sex_to_int(train_data)\n",
    "train_data = normalize(train_data, [\"Age\"])"
   ]
  },
  {
   "cell_type": "code",
   "execution_count": 98,
   "metadata": {
    "scrolled": true
   },
   "outputs": [],
   "source": [
    "train_data.to_csv('titanic_preprocessed.csv')"
   ]
  },
  {
   "cell_type": "code",
   "execution_count": 99,
   "metadata": {},
   "outputs": [],
   "source": [
    "def split_valid_test_data(data, fraction=0.8):\n",
    "    data_y = data[\"Survived\"]\n",
    "    data_x = data.drop([\"Survived\"], axis=1)\n",
    "\n",
    "    train_valid_split_idx = int(len(data_x) * fraction)\n",
    "    train_x = data_x[:train_valid_split_idx]\n",
    "    train_y = data_y[:train_valid_split_idx]\n",
    "\n",
    "    valid_test_split_idx = (len(data_x) - train_valid_split_idx) // 2\n",
    "    test_x = data_x[train_valid_split_idx + valid_test_split_idx:]\n",
    "    test_y = data_y[train_valid_split_idx + valid_test_split_idx:]\n",
    "\n",
    "    return train_x.values, train_y.values.reshape(-1, 1), test_x.values, test_y.values.reshape(-1, 1)\n",
    "\n",
    "\n",
    "train_x, train_y, test_x, test_y = split_valid_test_data(train_data)"
   ]
  },
  {
   "cell_type": "code",
   "execution_count": 107,
   "metadata": {},
   "outputs": [],
   "source": [
    "model = Sequential()\n",
    "model.add(Dense(64, input_dim=train_x.shape[1]))\n",
    "model.add(Activation('relu'))\n",
    "model.add(Dropout(0.5))\n",
    "model.add(Dense(32, input_dim=64))\n",
    "model.add(Activation('relu'))\n",
    "model.add(Dropout(0.5))\n",
    "model.add(Dense(1, input_dim=32))\n",
    "model.add(Activation('sigmoid'))\n",
    "\n",
    "sgd = SGD(lr=0.001)\n",
    "model.compile(optimizer=sgd, loss='binary_crossentropy', metrics=['accuracy'])"
   ]
  },
  {
   "cell_type": "code",
   "execution_count": 108,
   "metadata": {},
   "outputs": [
    {
     "name": "stdout",
     "output_type": "stream",
     "text": [
      "18/18 [==============================] - 0s 1ms/step - loss: 0.6369 - accuracy: 0.6239\n",
      "Train accuracy:0.6239016056060791\n",
      "3/3 [==============================] - 0s 2ms/step - loss: 0.6268 - accuracy: 0.6806\n",
      "Test accuracy:0.6805555820465088\n"
     ]
    }
   ],
   "source": [
    "model.fit(train_x, train_y, epochs=10**2, batch_size=64, verbose=0)\n",
    "\n",
    "score = model.evaluate(train_x, train_y)\n",
    "print(f\"Train accuracy:{score[1]}\")\n",
    "score = model.evaluate(test_x, test_y)\n",
    "print(f\"Test accuracy:{score[1]}\")"
   ]
  },
  {
   "cell_type": "code",
   "execution_count": null,
   "metadata": {},
   "outputs": [],
   "source": []
  }
 ],
 "metadata": {
  "kernelspec": {
   "display_name": "Python 3",
   "language": "python",
   "name": "python3"
  },
  "language_info": {
   "codemirror_mode": {
    "name": "ipython",
    "version": 3
   },
   "file_extension": ".py",
   "mimetype": "text/x-python",
   "name": "python",
   "nbconvert_exporter": "python",
   "pygments_lexer": "ipython3",
   "version": "3.8.5"
  }
 },
 "nbformat": 4,
 "nbformat_minor": 4
}
